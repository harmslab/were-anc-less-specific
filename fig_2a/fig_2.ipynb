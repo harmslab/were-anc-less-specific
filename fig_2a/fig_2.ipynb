{
 "cells": [
  {
   "cell_type": "code",
   "execution_count": 3,
   "metadata": {},
   "outputs": [],
   "source": [
    "%matplotlib inline\n",
    "\n",
    "from matplotlib import pyplot as plt\n",
    "import numpy as np\n",
    "import pandas as pd\n",
    "from scipy import stats\n",
    "from scipy import optimize\n",
    "\n",
    "import copy\n",
    "\n",
    "SMALL_SIZE = 14\n",
    "MEDIUM_SIZE = 16\n",
    "BIGGER_SIZE = 18\n",
    "\n",
    "plt.rc('font', size=SMALL_SIZE)          # controls default text sizes\n",
    "plt.rc('axes', titlesize=SMALL_SIZE)     # fontsize of the axes title\n",
    "plt.rc('axes', labelsize=MEDIUM_SIZE)    # fontsize of the x and y labels\n",
    "plt.rc('xtick', labelsize=SMALL_SIZE)    # fontsize of the tick labels\n",
    "plt.rc('ytick', labelsize=SMALL_SIZE)    # fontsize of the tick labels\n",
    "plt.rc('legend', fontsize=SMALL_SIZE)    # legend fontsize\n",
    "plt.rc('figure', titlesize=BIGGER_SIZE)  # fontsize of the figure title\n"
   ]
  },
  {
   "cell_type": "code",
   "execution_count": 5,
   "metadata": {},
   "outputs": [],
   "source": [
    "aa_string = \"ACDEFGHIKLMNPQRSTVWY\"\n",
    "aa_dict = dict([(a,0) for a in aa_string])\n",
    "\n",
    "all_aa = []\n",
    "for i in range(12):\n",
    "    all_aa.append(copy.deepcopy(aa_dict))\n",
    "    \n",
    "# Read the untreated library counts for each amino acid\n",
    "count_list = []\n",
    "with open(\"../fig_s2/untreated-library.counts\") as f:\n",
    "    for line in f:\n",
    "        if line.startswith(\"#\") or line.strip() == \"\":\n",
    "            continue\n",
    "\n",
    "        seq = line.split()[0]\n",
    "        count = int(line.split()[1])\n",
    "        \n",
    "        for i, aa in enumerate(seq):\n",
    "            all_aa[i][aa] += count\n",
    "\n",
    "# Record counts as array\n",
    "out_seqs = []\n",
    "data = np.zeros((20,12),dtype=np.float)\n",
    "for i in range(12):\n",
    "    for j in range(20):\n",
    "        data[j,i] = all_aa[i][aa_string[j]]\n",
    "        \n",
    "\n",
    "# Normalize so each column sums to 1.0 \n",
    "data = data/np.sum(data,axis=0)\n",
    "aa_to_grab = np.array(list(aa_string))\n",
    "\n",
    "# Generate random sequences sampling from this library\n",
    "gen_seq = []\n",
    "for i in range(12):\n",
    "    gen_seq.append(np.random.choice(aa_to_grab,size=10000,p=data[:,i]))\n",
    "\n",
    "f = open(\"seq-for-logo.fasta\",\"w\")\n",
    "gen_seq = np.array(gen_seq)\n",
    "for i in range((gen_seq.shape[1])):\n",
    "    seq_as_string = \"\".join(gen_seq[:,i])\n",
    "    f.write(f\">{seq_as_string}\\n{seq_as_string}\\n\")\n",
    "f.close()\n"
   ]
  },
  {
   "cell_type": "code",
   "execution_count": null,
   "metadata": {},
   "outputs": [],
   "source": []
  }
 ],
 "metadata": {
  "kernelspec": {
   "display_name": "Python 3",
   "language": "python",
   "name": "python3"
  },
  "language_info": {
   "codemirror_mode": {
    "name": "ipython",
    "version": 3
   },
   "file_extension": ".py",
   "mimetype": "text/x-python",
   "name": "python",
   "nbconvert_exporter": "python",
   "pygments_lexer": "ipython3",
   "version": "3.7.3"
  }
 },
 "nbformat": 4,
 "nbformat_minor": 4
}
